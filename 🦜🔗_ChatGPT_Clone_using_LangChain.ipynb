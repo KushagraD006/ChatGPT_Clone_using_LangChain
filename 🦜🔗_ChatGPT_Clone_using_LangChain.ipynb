{
  "nbformat": 4,
  "nbformat_minor": 0,
  "metadata": {
    "colab": {
      "provenance": [],
      "authorship_tag": "ABX9TyOZ7pyvxOwdcft5CnRGKysp",
      "include_colab_link": true
    },
    "kernelspec": {
      "name": "python3",
      "display_name": "Python 3"
    },
    "language_info": {
      "name": "python"
    }
  },
  "cells": [
    {
      "cell_type": "markdown",
      "metadata": {
        "id": "view-in-github",
        "colab_type": "text"
      },
      "source": [
        "<a href=\"https://colab.research.google.com/github/KushagraD006/ChatGPT_Clone_using_LangChain/blob/main/%F0%9F%A6%9C%F0%9F%94%97_ChatGPT_Clone_using_LangChain.ipynb\" target=\"_parent\"><img src=\"https://colab.research.google.com/assets/colab-badge.svg\" alt=\"Open In Colab\"/></a>"
      ]
    },
    {
      "cell_type": "code",
      "source": [
        "# RUN THIS CELL FIRST!\n",
        "!pip install -q langchain==0.0.150 pypdf pandas matplotlib tiktoken textract transformers openai faiss-cpu"
      ],
      "metadata": {
        "id": "v_pm0wSTLo9y"
      },
      "execution_count": null,
      "outputs": []
    },
    {
      "cell_type": "code",
      "source": [
        "!pip install openai"
      ],
      "metadata": {
        "id": "EBjQITDRLyyZ"
      },
      "execution_count": null,
      "outputs": []
    },
    {
      "cell_type": "code",
      "source": [
        "!pip install pdfplumber"
      ],
      "metadata": {
        "id": "btHKOoJNL8K9"
      },
      "execution_count": null,
      "outputs": []
    },
    {
      "cell_type": "code",
      "execution_count": null,
      "metadata": {
        "id": "g1GArD4yJ4EW"
      },
      "outputs": [],
      "source": [
        "import os\n",
        "\n",
        "import pdfplumber\n",
        "import openai\n",
        "import langchain\n",
        "\n",
        "def extract_text_from_pdf(pdf_path):\n",
        "    with pdfplumber.open(pdf_path) as pdf:\n",
        "        text = \"\"\n",
        "        for page in pdf.pages:\n",
        "            text += page.extract_text()\n",
        "    return text\n",
        "\n",
        "def chat_gpt(question, pdf_text):\n",
        "    response = openai.Completion.create(\n",
        "        engine=\"davinci\",\n",
        "        prompt=question + \".\\n\" + pdf_text,\n",
        "        temperature=0.9,\n",
        "        max_tokens=100,\n",
        "        n=3,\n",
        "    )\n",
        "    return response[\"choices\"][0][\"text\"]\n",
        "\n",
        "def create_langchain_chain(pdf_path):\n",
        "    text = extract_text_from_pdf(pdf_path)\n",
        "    embeddings = langchain.create_embeddings(text)\n",
        "    return langchain.Chain(embeddings)\n",
        "\n",
        "def main():\n",
        "    pdf_path = \"./Users/kusha/OneDrive/Desktop/A.pdf\"\n",
        "    question = input(\"Enter your question: \")\n",
        "\n",
        "    pdf_text = extract_text_from_pdf(pdf_path)\n",
        "    langchain_chain = create_langchain_chain(pdf_path)\n",
        "    response = langchain_chain.predict(question, n=3)\n",
        "\n",
        "    print(\"GPT's response: \" + response)\n",
        "\n",
        "if __name__ == \"__main__\":\n",
        "    main()"
      ]
    }
  ]
}